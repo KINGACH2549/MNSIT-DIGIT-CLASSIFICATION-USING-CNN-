{
 "cells": [
  {
   "cell_type": "code",
   "execution_count": 5,
   "id": "64c3a4cb",
   "metadata": {},
   "outputs": [],
   "source": [
    "import math\n",
    "import numpy as np\n",
    "import h5py\n",
    "import matplotlib.pyplot as plt\n",
    "from matplotlib.pyplot import imread\n",
    "import pandas as pd\n",
    "import tensorflow as tf\n",
    "import tensorflow.keras.layers as tfl\n",
    "\n",
    "\n",
    "%matplotlib inline\n",
    "np.random.seed(1)"
   ]
  },
  {
   "cell_type": "code",
   "execution_count": 6,
   "id": "091e78a8",
   "metadata": {},
   "outputs": [],
   "source": [
    "from tensorflow.keras.datasets import mnist\n",
    "(train_images, train_labels), (test_images, test_labels) = mnist.load_data()"
   ]
  },
  {
   "cell_type": "code",
   "execution_count": 7,
   "id": "5c6bd5f0",
   "metadata": {},
   "outputs": [
    {
     "name": "stdout",
     "output_type": "stream",
     "text": [
      "number of training examples = 60000\n",
      "number of test examples = 10000\n",
      "X_train shape: (60000, 28, 28)\n",
      "Y_train shape: (60000,)\n",
      "X_test shape: (10000, 28, 28)\n",
      "Y_test shape: (10000,)\n"
     ]
    }
   ],
   "source": [
    "# Normalize image vectors\n",
    "X_train = train_images/255.\n",
    "X_test = test_images/255.\n",
    "\n",
    "# Reshape\n",
    "Y_train = train_labels.T\n",
    "Y_test = test_labels.T\n",
    "\n",
    "print (\"number of training examples = \" + str(X_train.shape[0]))\n",
    "print (\"number of test examples = \" + str(X_test.shape[0]))\n",
    "print (\"X_train shape: \" + str(X_train.shape))\n",
    "print (\"Y_train shape: \" + str(Y_train.shape))\n",
    "print (\"X_test shape: \" + str(X_test.shape))\n",
    "print (\"Y_test shape: \" + str(Y_test.shape))"
   ]
  },
  {
   "cell_type": "code",
   "execution_count": 36,
   "id": "dcb4d003",
   "metadata": {},
   "outputs": [
    {
     "name": "stdout",
     "output_type": "stream",
     "text": [
      "y = 3\n"
     ]
    },
    {
     "data": {
      "image/png": "[encoded data removed]",
      "text/plain": [
       "<Figure size 432x288 with 1 Axes>"
      ]
     },
     "metadata": {
      "needs_background": "light"
     },
     "output_type": "display_data"
    }
   ],
   "source": [
    "index=7\n",
    "\n",
    "plt.imshow(train_images[index])\n",
    "print (\"y = \" + str(np.squeeze(train_labels[index])))"
   ]
  },
  {
   "cell_type": "code",
   "execution_count": 11,
   "id": "a647b70f",
   "metadata": {},
   "outputs": [],
   "source": [
    "def convolutional_model(input_shape):\n",
    "    input_img = tf.keras.Input(shape=input_shape)\n",
    "    Z1 = tf.keras.layers.Conv2D(filters = 6 , kernel_size= (5,5), strides = (1,1), padding='same')(input_img)\n",
    "    A1 = tf.keras.layers.ReLU()(Z1)\n",
    "    P1 = tf.keras.layers.AveragePooling2D(pool_size=(2,2), strides=(2,2), padding='valid')(A1)\n",
    "    Z2 = tf.keras.layers.Conv2D(filters = 16 , kernel_size= (5,5), strides = (1,1), padding='valid')(P1)\n",
    "    A2 = tf.keras.layers.ReLU()(Z2)\n",
    "    P2 = tf.keras.layers.AveragePooling2D(pool_size=(2,2), strides=(2,2), padding='valid')(A2)\n",
    "    F = tf.keras.layers.Flatten()(P2)\n",
    "    A3=tf.keras.layers.Dense(units=120, activation='ReLU')(F)\n",
    "    A4=tf.keras.layers.Dense(units=84, activation='ReLU')(A3)\n",
    "    outputs = tf.keras.layers.Dense(units=10, activation='softmax')(A4)\n",
    "    model = tf.keras.Model(inputs=input_img, outputs=outputs)\n",
    "    return model"
   ]
  },
  {
   "cell_type": "code",
   "execution_count": 12,
   "id": "20a1c2e0",
   "metadata": {},
   "outputs": [],
   "source": [
    "conv_model = convolutional_model((28,28,1))\n",
    "# conv_model.compile(optimizer='adam',\n",
    "#                   loss='categorical_crossentropy',\n",
    "#                   metrics=['accuracy'])\n",
    "conv_model.compile(optimizer='adam',loss = tf.keras.losses.SparseCategoricalCrossentropy(from_logits=True), metrics=['accuracy'])"
   ]
  },
  {
   "cell_type": "code",
   "execution_count": 13,
   "id": "e350afe4",
   "metadata": {},
   "outputs": [
    {
     "name": "stdout",
     "output_type": "stream",
     "text": [
      "Model: \"model\"\n",
      "_________________________________________________________________\n",
      " Layer (type)                Output Shape              Param #   \n",
      "=================================================================\n",
      " input_1 (InputLayer)        [(None, 28, 28, 1)]       0         \n",
      "                                                                 \n",
      " conv2d (Conv2D)             (None, 28, 28, 6)         156       \n",
      "                                                                 \n",
      " re_lu (ReLU)                (None, 28, 28, 6)         0         \n",
      "                                                                 \n",
      " average_pooling2d (AverageP  (None, 14, 14, 6)        0         \n",
      " ooling2D)                                                       \n",
      "                                                                 \n",
      " conv2d_1 (Conv2D)           (None, 10, 10, 16)        2416      \n",
      "                                                                 \n",
      " re_lu_1 (ReLU)              (None, 10, 10, 16)        0         \n",
      "                                                                 \n",
      " average_pooling2d_1 (Averag  (None, 5, 5, 16)         0         \n",
      " ePooling2D)                                                     \n",
      "                                                                 \n",
      " flatten (Flatten)           (None, 400)               0         \n",
      "                                                                 \n",
      " dense (Dense)               (None, 120)               48120     \n",
      "                                                                 \n",
      " dense_1 (Dense)             (None, 84)                10164     \n",
      "                                                                 \n",
      " dense_2 (Dense)             (None, 10)                850       \n",
      "                                                                 \n",
      "=================================================================\n",
      "Total params: 61,706\n",
      "Trainable params: 61,706\n",
      "Non-trainable params: 0\n",
      "_________________________________________________________________\n"
     ]
    }
   ],
   "source": [
    "conv_model.summary()"
   ]
  },
  {
   "cell_type": "code",
   "execution_count": 14,
   "id": "c9e9eb2e",
   "metadata": {},
   "outputs": [
    {
     "name": "stdout",
     "output_type": "stream",
     "text": [
      "Epoch 1/11\n"
     ]
    },
    {
     "name": "stderr",
     "output_type": "stream",
     "text": [
      "C:\\Users\\User\\AppData\\Local\\Programs\\Python\\Python310\\lib\\site-packages\\tensorflow\\python\\util\\dispatch.py:1082: UserWarning: \"`sparse_categorical_crossentropy` received `from_logits=True`, but the `output` argument was produced by a sigmoid or softmax activation and thus does not represent logits. Was this intended?\"\n",
      "  return dispatch_target(*args, **kwargs)\n"
     ]
    },
    {
     "name": "stdout",
     "output_type": "stream",
     "text": [
      "469/469 [==============================] - 38s 77ms/step - loss: 0.4078 - accuracy: 0.8808 - val_loss: 0.1113 - val_accuracy: 0.9674\n",
      "Epoch 2/11\n",
      "469/469 [==============================] - 34s 73ms/step - loss: 0.0993 - accuracy: 0.9701 - val_loss: 0.0668 - val_accuracy: 0.9782\n",
      "Epoch 3/11\n",
      "469/469 [==============================] - 36s 76ms/step - loss: 0.0693 - accuracy: 0.9793 - val_loss: 0.0532 - val_accuracy: 0.9823\n",
      "Epoch 4/11\n",
      "469/469 [==============================] - 34s 73ms/step - loss: 0.0544 - accuracy: 0.9837 - val_loss: 0.0471 - val_accuracy: 0.9848\n",
      "Epoch 5/11\n",
      "469/469 [==============================] - 35s 74ms/step - loss: 0.0450 - accuracy: 0.9864 - val_loss: 0.0430 - val_accuracy: 0.9855\n",
      "Epoch 6/11\n",
      "469/469 [==============================] - 34s 73ms/step - loss: 0.0384 - accuracy: 0.9884 - val_loss: 0.0403 - val_accuracy: 0.9865\n",
      "Epoch 7/11\n",
      "469/469 [==============================] - 34s 72ms/step - loss: 0.0329 - accuracy: 0.9898 - val_loss: 0.0400 - val_accuracy: 0.9866\n",
      "Epoch 8/11\n",
      "469/469 [==============================] - 35s 74ms/step - loss: 0.0288 - accuracy: 0.9912 - val_loss: 0.0397 - val_accuracy: 0.9876\n",
      "Epoch 9/11\n",
      "469/469 [==============================] - 34s 73ms/step - loss: 0.0255 - accuracy: 0.9919 - val_loss: 0.0417 - val_accuracy: 0.9873\n",
      "Epoch 10/11\n",
      "469/469 [==============================] - 34s 73ms/step - loss: 0.0225 - accuracy: 0.9929 - val_loss: 0.0398 - val_accuracy: 0.9880\n",
      "Epoch 11/11\n",
      "469/469 [==============================] - 34s 73ms/step - loss: 0.0194 - accuracy: 0.9940 - val_loss: 0.0387 - val_accuracy: 0.9889\n"
     ]
    }
   ],
   "source": [
    "train_dataset = tf.data.Dataset.from_tensor_slices((X_train, Y_train)).batch(128)\n",
    "test_dataset = tf.data.Dataset.from_tensor_slices((X_test, Y_test)).batch(128)\n",
    "history = conv_model.fit(train_dataset, epochs=11, validation_data=test_dataset)"
   ]
  },
  {
   "cell_type": "code",
   "execution_count": 15,
   "id": "eeb7f28d",
   "metadata": {},
   "outputs": [
    {
     "data": {
      "text/plain": [
       "{'loss': [0.4077729880809784,\n",
       "  0.09925448894500732,\n",
       "  0.06930869817733765,\n",
       "  0.054405927658081055,\n",
       "  0.04498586431145668,\n",
       "  0.038404565304517746,\n",
       "  0.032916367053985596,\n",
       "  0.02880215086042881,\n",
       "  0.025507573038339615,\n",
       "  0.022527890279889107,\n",
       "  0.019387137144804],\n",
       " 'accuracy': [0.8808333277702332,\n",
       "  0.9700833559036255,\n",
       "  0.979283332824707,\n",
       "  0.9836500287055969,\n",
       "  0.986383318901062,\n",
       "  0.9883666634559631,\n",
       "  0.989799976348877,\n",
       "  0.991183340549469,\n",
       "  0.9918666481971741,\n",
       "  0.9929333329200745,\n",
       "  0.9940000176429749],\n",
       " 'val_loss': [0.11128531396389008,\n",
       "  0.06677143275737762,\n",
       "  0.053177379071712494,\n",
       "  0.047051116824150085,\n",
       "  0.04299187287688255,\n",
       "  0.040338873863220215,\n",
       "  0.04002673178911209,\n",
       "  0.03968680277466774,\n",
       "  0.041683491319417953,\n",
       "  0.039825666695833206,\n",
       "  0.03867103531956673],\n",
       " 'val_accuracy': [0.9674000144004822,\n",
       "  0.9782000184059143,\n",
       "  0.9822999835014343,\n",
       "  0.9847999811172485,\n",
       "  0.9854999780654907,\n",
       "  0.9865000247955322,\n",
       "  0.9865999817848206,\n",
       "  0.9876000285148621,\n",
       "  0.9872999787330627,\n",
       "  0.9879999756813049,\n",
       "  0.9889000058174133]}"
      ]
     },
     "execution_count": 15,
     "metadata": {},
     "output_type": "execute_result"
    }
   ],
   "source": [
    "history.history"
   ]
  },
  {
   "cell_type": "code",
   "execution_count": 16,
   "id": "a1ade5cb",
   "metadata": {},
   "outputs": [
    {
     "data": {
      "text/html": [
       "<div>\n",
       "<style scoped>\n",
       "    .dataframe tbody tr th:only-of-type {\n",
       "        vertical-align: middle;\n",
       "    }\n",
       "\n",
       "    .dataframe tbody tr th {\n",
       "        vertical-align: top;\n",
       "    }\n",
       "\n",
       "    .dataframe thead th {\n",
       "        text-align: right;\n",
       "    }\n",
       "</style>\n",
       "<table border=\"1\" class=\"dataframe\">\n",
       "  <thead>\n",
       "    <tr style=\"text-align: right;\">\n",
       "      <th></th>\n",
       "      <th>loss</th>\n",
       "      <th>accuracy</th>\n",
       "      <th>val_loss</th>\n",
       "      <th>val_accuracy</th>\n",
       "    </tr>\n",
       "  </thead>\n",
       "  <tbody>\n",
       "    <tr>\n",
       "      <th>0</th>\n",
       "      <td>0.407773</td>\n",
       "      <td>0.880833</td>\n",
       "      <td>0.111285</td>\n",
       "      <td>0.9674</td>\n",
       "    </tr>\n",
       "    <tr>\n",
       "      <th>1</th>\n",
       "      <td>0.099254</td>\n",
       "      <td>0.970083</td>\n",
       "      <td>0.066771</td>\n",
       "      <td>0.9782</td>\n",
       "    </tr>\n",
       "    <tr>\n",
       "      <th>2</th>\n",
       "      <td>0.069309</td>\n",
       "      <td>0.979283</td>\n",
       "      <td>0.053177</td>\n",
       "      <td>0.9823</td>\n",
       "    </tr>\n",
       "    <tr>\n",
       "      <th>3</th>\n",
       "      <td>0.054406</td>\n",
       "      <td>0.983650</td>\n",
       "      <td>0.047051</td>\n",
       "      <td>0.9848</td>\n",
       "    </tr>\n",
       "    <tr>\n",
       "      <th>4</th>\n",
       "      <td>0.044986</td>\n",
       "      <td>0.986383</td>\n",
       "      <td>0.042992</td>\n",
       "      <td>0.9855</td>\n",
       "    </tr>\n",
       "    <tr>\n",
       "      <th>5</th>\n",
       "      <td>0.038405</td>\n",
       "      <td>0.988367</td>\n",
       "      <td>0.040339</td>\n",
       "      <td>0.9865</td>\n",
       "    </tr>\n",
       "    <tr>\n",
       "      <th>6</th>\n",
       "      <td>0.032916</td>\n",
       "      <td>0.989800</td>\n",
       "      <td>0.040027</td>\n",
       "      <td>0.9866</td>\n",
       "    </tr>\n",
       "    <tr>\n",
       "      <th>7</th>\n",
       "      <td>0.028802</td>\n",
       "      <td>0.991183</td>\n",
       "      <td>0.039687</td>\n",
       "      <td>0.9876</td>\n",
       "    </tr>\n",
       "    <tr>\n",
       "      <th>8</th>\n",
       "      <td>0.025508</td>\n",
       "      <td>0.991867</td>\n",
       "      <td>0.041683</td>\n",
       "      <td>0.9873</td>\n",
       "    </tr>\n",
       "    <tr>\n",
       "      <th>9</th>\n",
       "      <td>0.022528</td>\n",
       "      <td>0.992933</td>\n",
       "      <td>0.039826</td>\n",
       "      <td>0.9880</td>\n",
       "    </tr>\n",
       "    <tr>\n",
       "      <th>10</th>\n",
       "      <td>0.019387</td>\n",
       "      <td>0.994000</td>\n",
       "      <td>0.038671</td>\n",
       "      <td>0.9889</td>\n",
       "    </tr>\n",
       "  </tbody>\n",
       "</table>\n",
       "</div>"
      ],
      "text/plain": [
       "        loss  accuracy  val_loss  val_accuracy\n",
       "0   0.407773  0.880833  0.111285        0.9674\n",
       "1   0.099254  0.970083  0.066771        0.9782\n",
       "2   0.069309  0.979283  0.053177        0.9823\n",
       "3   0.054406  0.983650  0.047051        0.9848\n",
       "4   0.044986  0.986383  0.042992        0.9855\n",
       "5   0.038405  0.988367  0.040339        0.9865\n",
       "6   0.032916  0.989800  0.040027        0.9866\n",
       "7   0.028802  0.991183  0.039687        0.9876\n",
       "8   0.025508  0.991867  0.041683        0.9873\n",
       "9   0.022528  0.992933  0.039826        0.9880\n",
       "10  0.019387  0.994000  0.038671        0.9889"
      ]
     },
     "execution_count": 16,
     "metadata": {},
     "output_type": "execute_result"
    }
   ],
   "source": [
    "df_loss_acc=pd.DataFrame(history.history)\n",
    "df_loss_acc"
   ]
  },
  {
   "cell_type": "code",
   "execution_count": 17,
   "id": "47a95801",
   "metadata": {},
   "outputs": [
    {
     "name": "stderr",
     "output_type": "stream",
     "text": [
      "C:\\Users\\User\\AppData\\Local\\Programs\\Python\\Python310\\lib\\site-packages\\pandas\\core\\frame.py:5039: SettingWithCopyWarning: \n",
      "A value is trying to be set on a copy of a slice from a DataFrame\n",
      "\n",
      "See the caveats in the documentation: https://pandas.pydata.org/pandas-docs/stable/user_guide/indexing.html#returning-a-view-versus-a-copy\n",
      "  return super().rename(\n"
     ]
    },
    {
     "data": {
      "text/plain": [
       "[Text(0.5, 0, 'Epoch'), Text(0, 0.5, 'Accuracy')]"
      ]
     },
     "execution_count": 17,
     "metadata": {},
     "output_type": "execute_result"
    },
    {
     "data": {
      "image/png": "[encoded data removed]",
      "text/plain": [
       "<Figure size 864x576 with 1 Axes>"
      ]
     },
     "metadata": {
      "needs_background": "light"
     },
     "output_type": "display_data"
    },
    {
     "data": {
      "image/png": "[encoded data removed]",
      "text/plain": [
       "<Figure size 864x576 with 1 Axes>"
      ]
     },
     "metadata": {
      "needs_background": "light"
     },
     "output_type": "display_data"
    }
   ],
   "source": [
    "df_loss= df_loss_acc[['loss','val_loss']]\n",
    "df_loss.rename(columns={'loss':'train','val_loss':'validation'},inplace=True)\n",
    "df_acc= df_loss_acc[['accuracy','val_accuracy']]\n",
    "df_acc.rename(columns={'accuracy':'train','val_accuracy':'validation'},inplace=True)\n",
    "df_loss.plot(title='Model loss',figsize=(12,8)).set(xlabel='Epoch',ylabel='Loss')\n",
    "df_acc.plot(title='Model Accuracy',figsize=(12,8)).set(xlabel='Epoch',ylabel='Accuracy')"
   ]
  },
  {
   "cell_type": "code",
   "execution_count": 18,
   "id": "c2c736e0",
   "metadata": {},
   "outputs": [],
   "source": [
    "import tensorflow as tf\n",
    "path = './model.h5'\n",
    "conv_model.save(path )"
   ]
  },
  {
   "cell_type": "code",
   "execution_count": 10,
   "id": "a8ba98bd",
   "metadata": {},
   "outputs": [],
   "source": [
    "path='./model.h5'"
   ]
  },
  {
   "cell_type": "code",
   "execution_count": 11,
   "id": "4fac2a3a",
   "metadata": {},
   "outputs": [],
   "source": [
    "model = tf.keras.models.load_model(path)"
   ]
  },
  {
   "cell_type": "code",
   "execution_count": 1,
   "id": "7847fad8",
   "metadata": {},
   "outputs": [],
   "source": [
    "from keras.preprocessing import image\n"
   ]
  },
  {
   "cell_type": "code",
   "execution_count": 41,
   "id": "eed74bbf",
   "metadata": {},
   "outputs": [],
   "source": [
    "img = image.load_img(path=\"Capture_3.png\", color_mode= 'grayscale', target_size=(28, 28))"
   ]
  },
  {
   "cell_type": "code",
   "execution_count": 42,
   "id": "5dd95944",
   "metadata": {},
   "outputs": [],
   "source": [
    "img = image.img_to_array(img)\n"
   ]
  },
  {
   "cell_type": "code",
   "execution_count": 43,
   "id": "86f91415",
   "metadata": {},
   "outputs": [
    {
     "data": {
      "text/plain": [
       "<matplotlib.image.AxesImage at 0x1f87f91c340>"
      ]
     },
     "execution_count": 43,
     "metadata": {},
     "output_type": "execute_result"
    },
    {
     "data": {
      "image/png": "[encoded data removed]",
      "text/plain": [
       "<Figure size 432x288 with 1 Axes>"
      ]
     },
     "metadata": {
      "needs_background": "light"
     },
     "output_type": "display_data"
    }
   ],
   "source": [
    "plt.imshow(image.array_to_img(img), cmap=\"gray\")"
   ]
  },
  {
   "cell_type": "code",
   "execution_count": 29,
   "id": "970fedd9",
   "metadata": {},
   "outputs": [
    {
     "data": {
      "text/plain": [
       "(28, 28, 1)"
      ]
     },
     "execution_count": 29,
     "metadata": {},
     "output_type": "execute_result"
    }
   ],
   "source": [
    "img.shape"
   ]
  },
  {
   "cell_type": "code",
   "execution_count": 44,
   "id": "441365c8",
   "metadata": {},
   "outputs": [],
   "source": [
    "img = img.astype('float')/255\n",
    "test_img = img.reshape((1, 28, 28, 1))"
   ]
  },
  {
   "cell_type": "code",
   "execution_count": 45,
   "id": "b7b4ce61",
   "metadata": {},
   "outputs": [
    {
     "data": {
      "text/plain": [
       "array([[3.1773375e-08, 1.6246084e-05, 1.3748804e-01, 7.5983453e-01,\n",
       "        2.9585754e-06, 2.1515239e-05, 1.0592247e-07, 9.1996633e-05,\n",
       "        1.0249508e-01, 4.9491115e-05]], dtype=float32)"
      ]
     },
     "execution_count": 45,
     "metadata": {},
     "output_type": "execute_result"
    }
   ],
   "source": [
    "model.predict(test_img)"
   ]
  },
  {
   "cell_type": "code",
   "execution_count": 46,
   "id": "6b65e922",
   "metadata": {},
   "outputs": [],
   "source": [
    "img_class = np.argmax(model.predict(test_img), axis = 1)\n",
    "prediction = img_class[0]\n",
    "\n"
   ]
  },
  {
   "cell_type": "code",
   "execution_count": 47,
   "id": "5265c326",
   "metadata": {},
   "outputs": [
    {
     "data": {
      "text/plain": [
       "3"
      ]
     },
     "execution_count": 47,
     "metadata": {},
     "output_type": "execute_result"
    }
   ],
   "source": [
    "prediction"
   ]
  },
  {
   "cell_type": "code",
   "execution_count": 48,
   "id": "b3c08d92",
   "metadata": {},
   "outputs": [],
   "source": [
    "img = image.load_img(path=\"Capture_2.png\", color_mode= 'grayscale', target_size=(28, 28))"
   ]
  },
  {
   "cell_type": "code",
   "execution_count": 49,
   "id": "151a5636",
   "metadata": {},
   "outputs": [],
   "source": [
    "img = image.img_to_array(img)"
   ]
  },
  {
   "cell_type": "code",
   "execution_count": 50,
   "id": "405d8249",
   "metadata": {},
   "outputs": [
    {
     "data": {
      "text/plain": [
       "<matplotlib.image.AxesImage at 0x1f87f967010>"
      ]
     },
     "execution_count": 50,
     "metadata": {},
     "output_type": "execute_result"
    },
    {
     "data": {
      "image/png": "[encoded data removed]",
      "text/plain": [
       "<Figure size 432x288 with 1 Axes>"
      ]
     },
     "metadata": {
      "needs_background": "light"
     },
     "output_type": "display_data"
    }
   ],
   "source": [
    "plt.imshow(image.array_to_img(img), cmap=\"gray\")"
   ]
  },
  {
   "cell_type": "code",
   "execution_count": 51,
   "id": "2723a576",
   "metadata": {},
   "outputs": [],
   "source": [
    "img = img.astype('float')/255\n",
    "test_img = img.reshape((1, 28, 28, 1))"
   ]
  },
  {
   "cell_type": "code",
   "execution_count": 52,
   "id": "23bfc8ed",
   "metadata": {},
   "outputs": [
    {
     "data": {
      "text/plain": [
       "array([[1.6383681e-04, 3.1570267e-05, 1.3823666e-04, 4.6017715e-03,\n",
       "        7.4419127e-05, 5.1891035e-01, 1.5906004e-02, 9.9780154e-06,\n",
       "        4.4698176e-01, 1.3182005e-02]], dtype=float32)"
      ]
     },
     "execution_count": 52,
     "metadata": {},
     "output_type": "execute_result"
    }
   ],
   "source": [
    "model.predict(test_img)"
   ]
  },
  {
   "cell_type": "code",
   "execution_count": 53,
   "id": "60f6d0fa",
   "metadata": {},
   "outputs": [],
   "source": [
    "img_class = np.argmax(model.predict(test_img), axis = 1)\n",
    "prediction = img_class[0]"
   ]
  },
  {
   "cell_type": "code",
   "execution_count": 54,
   "id": "18ba6f28",
   "metadata": {},
   "outputs": [
    {
     "data": {
      "text/plain": [
       "5"
      ]
     },
     "execution_count": 54,
     "metadata": {},
     "output_type": "execute_result"
    }
   ],
   "source": [
    "prediction"
   ]
  }
 ],
 "metadata": {
  "kernelspec": {
   "display_name": "Python 3 (ipykernel)",
   "language": "python",
   "name": "python3"
  },
  "language_info": {
   "codemirror_mode": {
    "name": "ipython",
    "version": 3
   },
   "file_extension": ".py",
   "mimetype": "text/x-python",
   "name": "python",
   "nbconvert_exporter": "python",
   "pygments_lexer": "ipython3",
   "version": "3.10.2"
  }
 },
 "nbformat": 4,
 "nbformat_minor": 5
}
